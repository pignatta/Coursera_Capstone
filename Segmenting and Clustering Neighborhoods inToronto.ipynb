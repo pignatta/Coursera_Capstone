{
 "cells": [
  {
   "cell_type": "markdown",
   "metadata": {},
   "source": [
    "# Segmenting and Clustering Neighborhoods in Toronto\n",
    "## Applied data capstone"
   ]
  },
  {
   "cell_type": "markdown",
   "metadata": {},
   "source": [
    "First let's import the necessary packages."
   ]
  },
  {
   "cell_type": "code",
   "execution_count": 2,
   "metadata": {},
   "outputs": [],
   "source": [
    "import requests\n",
    "from bs4 import BeautifulSoup\n",
    "import pandas as pd\n",
    "import folium\n",
    "from sklearn.cluster import KMeans"
   ]
  },
  {
   "cell_type": "markdown",
   "metadata": {},
   "source": [
    "### 1 - Building the Dataframe"
   ]
  },
  {
   "cell_type": "markdown",
   "metadata": {},
   "source": [
    "Now I read the code of the wikipedia page and I store it into a variable, then I import it to BeautifulSoup"
   ]
  },
  {
   "cell_type": "code",
   "execution_count": 3,
   "metadata": {},
   "outputs": [],
   "source": [
    "wikipage = requests.get('https://en.wikipedia.org/wiki/List_of_postal_codes_of_Canada:_M').text"
   ]
  },
  {
   "cell_type": "code",
   "execution_count": 4,
   "metadata": {},
   "outputs": [],
   "source": [
    "soup = BeautifulSoup(wikipage, 'lxml')"
   ]
  },
  {
   "cell_type": "markdown",
   "metadata": {},
   "source": [
    "Here I select only the part of code that belongs to \"wikitable sortable\" with BS functions, i.e. the table that retains the info I want."
   ]
  },
  {
   "cell_type": "code",
   "execution_count": 18,
   "metadata": {
    "scrolled": true
   },
   "outputs": [],
   "source": [
    "toronto_table = soup.find('table', {'class':'wikitable sortable'})"
   ]
  },
  {
   "cell_type": "markdown",
   "metadata": {},
   "source": [
    "Here I separate each single line in the \"row\" list, with BS functions."
   ]
  },
  {
   "cell_type": "code",
   "execution_count": 6,
   "metadata": {},
   "outputs": [
    {
     "data": {
      "text/plain": [
       "288"
      ]
     },
     "execution_count": 6,
     "metadata": {},
     "output_type": "execute_result"
    }
   ],
   "source": [
    "row = toronto_table.find_all('tr')\n",
    "len(row)"
   ]
  },
  {
   "cell_type": "markdown",
   "metadata": {},
   "source": [
    "Now I cicle between all rows with thew outer cicle, and between all the columns with the inner cicle and assign each element to the correct list, removing at the same time the html commands I don't need, as \"td\" and \"tr\", with the \"strip\" command. I also discard the lines in which the neighborhood is not assigned, with an \"if\" command.\n",
    "\n",
    "At the end I create the dataframe. If the borough is not assigned I discard again the whole line."
   ]
  },
  {
   "cell_type": "code",
   "execution_count": 7,
   "metadata": {},
   "outputs": [],
   "source": [
    "postal_code=[]\n",
    "borough=[]\n",
    "neighborhood=[]\n",
    "\n",
    "for i in range(1,len(row)):\n",
    "    column = row[i].find_all('td')\n",
    "    postal_code.append(column[0].get_text(strip=True))\n",
    "    borough.append(column[1].get_text(strip=True))\n",
    "    if column[2].get_text(strip=True) == 'Not assigned':\n",
    "        neighborhood.append(borough[i-1])\n",
    "    else:\n",
    "        neighborhood.append(column[2].get_text(strip=True))"
   ]
  },
  {
   "cell_type": "code",
   "execution_count": 8,
   "metadata": {
    "scrolled": true
   },
   "outputs": [
    {
     "data": {
      "text/html": [
       "<div>\n",
       "<style scoped>\n",
       "    .dataframe tbody tr th:only-of-type {\n",
       "        vertical-align: middle;\n",
       "    }\n",
       "\n",
       "    .dataframe tbody tr th {\n",
       "        vertical-align: top;\n",
       "    }\n",
       "\n",
       "    .dataframe thead th {\n",
       "        text-align: right;\n",
       "    }\n",
       "</style>\n",
       "<table border=\"1\" class=\"dataframe\">\n",
       "  <thead>\n",
       "    <tr style=\"text-align: right;\">\n",
       "      <th></th>\n",
       "      <th>postal_code</th>\n",
       "      <th>borough</th>\n",
       "      <th>neighborhood</th>\n",
       "    </tr>\n",
       "  </thead>\n",
       "  <tbody>\n",
       "    <tr>\n",
       "      <th>0</th>\n",
       "      <td>M3A</td>\n",
       "      <td>North York</td>\n",
       "      <td>Parkwoods</td>\n",
       "    </tr>\n",
       "    <tr>\n",
       "      <th>1</th>\n",
       "      <td>M4A</td>\n",
       "      <td>North York</td>\n",
       "      <td>Victoria Village</td>\n",
       "    </tr>\n",
       "    <tr>\n",
       "      <th>2</th>\n",
       "      <td>M5A</td>\n",
       "      <td>Downtown Toronto</td>\n",
       "      <td>Harbourfront</td>\n",
       "    </tr>\n",
       "    <tr>\n",
       "      <th>3</th>\n",
       "      <td>M6A</td>\n",
       "      <td>North York</td>\n",
       "      <td>Lawrence Heights</td>\n",
       "    </tr>\n",
       "    <tr>\n",
       "      <th>4</th>\n",
       "      <td>M6A</td>\n",
       "      <td>North York</td>\n",
       "      <td>Lawrence Manor</td>\n",
       "    </tr>\n",
       "    <tr>\n",
       "      <th>5</th>\n",
       "      <td>M7A</td>\n",
       "      <td>Queen's Park</td>\n",
       "      <td>Queen's Park</td>\n",
       "    </tr>\n",
       "    <tr>\n",
       "      <th>6</th>\n",
       "      <td>M9A</td>\n",
       "      <td>Queen's Park</td>\n",
       "      <td>Queen's Park</td>\n",
       "    </tr>\n",
       "    <tr>\n",
       "      <th>7</th>\n",
       "      <td>M1B</td>\n",
       "      <td>Scarborough</td>\n",
       "      <td>Rouge</td>\n",
       "    </tr>\n",
       "    <tr>\n",
       "      <th>8</th>\n",
       "      <td>M1B</td>\n",
       "      <td>Scarborough</td>\n",
       "      <td>Malvern</td>\n",
       "    </tr>\n",
       "    <tr>\n",
       "      <th>9</th>\n",
       "      <td>M3B</td>\n",
       "      <td>North York</td>\n",
       "      <td>Don Mills North</td>\n",
       "    </tr>\n",
       "  </tbody>\n",
       "</table>\n",
       "</div>"
      ],
      "text/plain": [
       "  postal_code           borough      neighborhood\n",
       "0         M3A        North York         Parkwoods\n",
       "1         M4A        North York  Victoria Village\n",
       "2         M5A  Downtown Toronto      Harbourfront\n",
       "3         M6A        North York  Lawrence Heights\n",
       "4         M6A        North York    Lawrence Manor\n",
       "5         M7A      Queen's Park      Queen's Park\n",
       "6         M9A      Queen's Park      Queen's Park\n",
       "7         M1B       Scarborough             Rouge\n",
       "8         M1B       Scarborough           Malvern\n",
       "9         M3B        North York   Don Mills North"
      ]
     },
     "execution_count": 8,
     "metadata": {},
     "output_type": "execute_result"
    }
   ],
   "source": [
    "merge={'postal_code':postal_code, 'borough':borough, 'neighborhood':neighborhood}\n",
    "df=pd.DataFrame(merge)\n",
    "df=df[df.borough!='Not assigned']\n",
    "df.reset_index(inplace=True, drop=True)\n",
    "df.head(10)"
   ]
  },
  {
   "cell_type": "markdown",
   "metadata": {},
   "source": [
    "Now I create a dictionary with the \"groupby\" method from pandas. The dictionary group each neighborhood by the postal code and give me the index of the lines pertaining to the same postal code.\n",
    "\n",
    "Finally, I create the string with all the neighborhood pertaining to the same postal code with the \"join\" function, separating them with a comma."
   ]
  },
  {
   "cell_type": "code",
   "execution_count": 9,
   "metadata": {
    "scrolled": true
   },
   "outputs": [
    {
     "data": {
      "text/plain": [
       "{'M1B': Int64Index([7, 8], dtype='int64'),\n",
       " 'M1C': Int64Index([20, 21, 22], dtype='int64'),\n",
       " 'M1E': Int64Index([32, 33, 34], dtype='int64'),\n",
       " 'M1G': Int64Index([38], dtype='int64'),\n",
       " 'M1H': Int64Index([42], dtype='int64'),\n",
       " 'M1J': Int64Index([53], dtype='int64'),\n",
       " 'M1K': Int64Index([65, 66, 67], dtype='int64'),\n",
       " 'M1L': Int64Index([78, 79, 80], dtype='int64'),\n",
       " 'M1M': Int64Index([92, 93, 94], dtype='int64'),\n",
       " 'M1N': Int64Index([107, 108], dtype='int64'),\n",
       " 'M1P': Int64Index([116, 117, 118], dtype='int64'),\n",
       " 'M1R': Int64Index([126, 127], dtype='int64'),\n",
       " 'M1S': Int64Index([140], dtype='int64'),\n",
       " 'M1T': Int64Index([146, 147, 148], dtype='int64'),\n",
       " 'M1V': Int64Index([154, 155, 156, 157], dtype='int64'),\n",
       " 'M1W': Int64Index([181], dtype='int64'),\n",
       " 'M1X': Int64Index([187], dtype='int64'),\n",
       " 'M2H': Int64Index([43], dtype='int64'),\n",
       " 'M2J': Int64Index([54, 55, 56], dtype='int64'),\n",
       " 'M2K': Int64Index([68], dtype='int64'),\n",
       " 'M2L': Int64Index([81, 82], dtype='int64'),\n",
       " 'M2M': Int64Index([95, 96], dtype='int64'),\n",
       " 'M2N': Int64Index([109], dtype='int64'),\n",
       " 'M2P': Int64Index([119], dtype='int64'),\n",
       " 'M2R': Int64Index([128], dtype='int64'),\n",
       " 'M3A': Int64Index([0], dtype='int64'),\n",
       " 'M3B': Int64Index([9], dtype='int64'),\n",
       " 'M3C': Int64Index([23, 24], dtype='int64'),\n",
       " 'M3H': Int64Index([44, 45, 46], dtype='int64'),\n",
       " 'M3J': Int64Index([57, 58], dtype='int64'),\n",
       " 'M3K': Int64Index([69, 70], dtype='int64'),\n",
       " 'M3L': Int64Index([83], dtype='int64'),\n",
       " 'M3M': Int64Index([97], dtype='int64'),\n",
       " 'M3N': Int64Index([110], dtype='int64'),\n",
       " 'M4A': Int64Index([1], dtype='int64'),\n",
       " 'M4B': Int64Index([10, 11], dtype='int64'),\n",
       " 'M4C': Int64Index([25], dtype='int64'),\n",
       " 'M4E': Int64Index([35], dtype='int64'),\n",
       " 'M4G': Int64Index([39], dtype='int64'),\n",
       " 'M4H': Int64Index([47], dtype='int64'),\n",
       " 'M4J': Int64Index([59], dtype='int64'),\n",
       " 'M4K': Int64Index([71, 72], dtype='int64'),\n",
       " 'M4L': Int64Index([84, 85], dtype='int64'),\n",
       " 'M4M': Int64Index([98], dtype='int64'),\n",
       " 'M4N': Int64Index([111], dtype='int64'),\n",
       " 'M4P': Int64Index([120], dtype='int64'),\n",
       " 'M4R': Int64Index([129], dtype='int64'),\n",
       " 'M4S': Int64Index([141], dtype='int64'),\n",
       " 'M4T': Int64Index([149, 150], dtype='int64'),\n",
       " 'M4V': Int64Index([158, 159, 160, 161, 162], dtype='int64'),\n",
       " 'M4W': Int64Index([182], dtype='int64'),\n",
       " 'M4X': Int64Index([188, 189], dtype='int64'),\n",
       " 'M4Y': Int64Index([195], dtype='int64'),\n",
       " 'M5A': Int64Index([2], dtype='int64'),\n",
       " 'M5B': Int64Index([12, 13], dtype='int64'),\n",
       " 'M5C': Int64Index([26], dtype='int64'),\n",
       " 'M5E': Int64Index([36], dtype='int64'),\n",
       " 'M5G': Int64Index([40], dtype='int64'),\n",
       " 'M5H': Int64Index([48, 49, 50], dtype='int64'),\n",
       " 'M5J': Int64Index([60, 61, 62], dtype='int64'),\n",
       " 'M5K': Int64Index([73, 74], dtype='int64'),\n",
       " 'M5L': Int64Index([86, 87], dtype='int64'),\n",
       " 'M5M': Int64Index([99, 100], dtype='int64'),\n",
       " 'M5N': Int64Index([112], dtype='int64'),\n",
       " 'M5P': Int64Index([121, 122], dtype='int64'),\n",
       " 'M5R': Int64Index([130, 131, 132], dtype='int64'),\n",
       " 'M5S': Int64Index([142, 143], dtype='int64'),\n",
       " 'M5T': Int64Index([151, 152, 153], dtype='int64'),\n",
       " 'M5V': Int64Index([163, 164, 165, 166, 167, 168, 169], dtype='int64'),\n",
       " 'M5W': Int64Index([183], dtype='int64'),\n",
       " 'M5X': Int64Index([190, 191], dtype='int64'),\n",
       " 'M6A': Int64Index([3, 4], dtype='int64'),\n",
       " 'M6B': Int64Index([14], dtype='int64'),\n",
       " 'M6C': Int64Index([27], dtype='int64'),\n",
       " 'M6E': Int64Index([37], dtype='int64'),\n",
       " 'M6G': Int64Index([41], dtype='int64'),\n",
       " 'M6H': Int64Index([51, 52], dtype='int64'),\n",
       " 'M6J': Int64Index([63, 64], dtype='int64'),\n",
       " 'M6K': Int64Index([75, 76, 77], dtype='int64'),\n",
       " 'M6L': Int64Index([88, 89, 90], dtype='int64'),\n",
       " 'M6M': Int64Index([101, 102, 103, 104], dtype='int64'),\n",
       " 'M6N': Int64Index([113, 114], dtype='int64'),\n",
       " 'M6P': Int64Index([123, 124], dtype='int64'),\n",
       " 'M6R': Int64Index([133, 134], dtype='int64'),\n",
       " 'M6S': Int64Index([144, 145], dtype='int64'),\n",
       " 'M7A': Int64Index([5], dtype='int64'),\n",
       " 'M7R': Int64Index([135], dtype='int64'),\n",
       " 'M7Y': Int64Index([196], dtype='int64'),\n",
       " 'M8V': Int64Index([170, 171, 172], dtype='int64'),\n",
       " 'M8W': Int64Index([184, 185], dtype='int64'),\n",
       " 'M8X': Int64Index([192, 193, 194], dtype='int64'),\n",
       " 'M8Y': Int64Index([197, 198, 199, 200, 201, 202, 203, 204], dtype='int64'),\n",
       " 'M8Z': Int64Index([205, 206, 207, 208, 209], dtype='int64'),\n",
       " 'M9A': Int64Index([6], dtype='int64'),\n",
       " 'M9B': Int64Index([15, 16, 17, 18, 19], dtype='int64'),\n",
       " 'M9C': Int64Index([28, 29, 30, 31], dtype='int64'),\n",
       " 'M9L': Int64Index([91], dtype='int64'),\n",
       " 'M9M': Int64Index([105, 106], dtype='int64'),\n",
       " 'M9N': Int64Index([115], dtype='int64'),\n",
       " 'M9P': Int64Index([125], dtype='int64'),\n",
       " 'M9R': Int64Index([136, 137, 138, 139], dtype='int64'),\n",
       " 'M9V': Int64Index([173, 174, 175, 176, 177, 178, 179, 180], dtype='int64'),\n",
       " 'M9W': Int64Index([186], dtype='int64')}"
      ]
     },
     "execution_count": 9,
     "metadata": {},
     "output_type": "execute_result"
    }
   ],
   "source": [
    "dictio=df.groupby(['postal_code']).groups\n",
    "dictio"
   ]
  },
  {
   "cell_type": "code",
   "execution_count": 10,
   "metadata": {
    "scrolled": true
   },
   "outputs": [
    {
     "data": {
      "text/plain": [
       "['Rouge,Malvern',\n",
       " 'Highland Creek,Rouge Hill,Port Union',\n",
       " 'Guildwood,Morningside,West Hill',\n",
       " 'Woburn',\n",
       " 'Cedarbrae',\n",
       " 'Scarborough Village',\n",
       " 'East Birchmount Park,Ionview,Kennedy Park',\n",
       " 'Clairlea,Golden Mile,Oakridge',\n",
       " 'Cliffcrest,Cliffside,Scarborough Village West',\n",
       " 'Birch Cliff,Cliffside West',\n",
       " 'Dorset Park,Scarborough Town Centre,Wexford Heights',\n",
       " 'Maryvale,Wexford',\n",
       " 'Agincourt',\n",
       " \"Clarks Corners,Sullivan,Tam O'Shanter\",\n",
       " \"Agincourt North,L'Amoreaux East,Milliken,Steeles East\",\n",
       " \"L'Amoreaux West\",\n",
       " 'Upper Rouge',\n",
       " 'Hillcrest Village',\n",
       " 'Fairview,Henry Farm,Oriole',\n",
       " 'Bayview Village',\n",
       " 'Silver Hills,York Mills',\n",
       " 'Newtonbrook,Willowdale',\n",
       " 'Willowdale South',\n",
       " 'York Mills West',\n",
       " 'Willowdale West',\n",
       " 'Parkwoods',\n",
       " 'Don Mills North',\n",
       " 'Flemingdon Park,Don Mills South',\n",
       " 'Bathurst Manor,Downsview North,Wilson Heights',\n",
       " 'Northwood Park,York University',\n",
       " 'CFB Toronto,Downsview East',\n",
       " 'Downsview West',\n",
       " 'Downsview Central',\n",
       " 'Downsview Northwest',\n",
       " 'Victoria Village',\n",
       " 'Woodbine Gardens,Parkview Hill',\n",
       " 'Woodbine Heights',\n",
       " 'The Beaches',\n",
       " 'Leaside',\n",
       " 'Thorncliffe Park',\n",
       " 'East Toronto',\n",
       " 'The Danforth West,Riverdale',\n",
       " 'The Beaches West,India Bazaar',\n",
       " 'Studio District',\n",
       " 'Lawrence Park',\n",
       " 'Davisville North',\n",
       " 'North Toronto West',\n",
       " 'Davisville',\n",
       " 'Moore Park,Summerhill East',\n",
       " 'Deer Park,Forest Hill SE,Rathnelly,South Hill,Summerhill West',\n",
       " 'Rosedale',\n",
       " 'Cabbagetown,St. James Town',\n",
       " 'Church and Wellesley',\n",
       " 'Harbourfront',\n",
       " 'Ryerson,Garden District',\n",
       " 'St. James Town',\n",
       " 'Berczy Park',\n",
       " 'Central Bay Street',\n",
       " 'Adelaide,King,Richmond',\n",
       " 'Harbourfront East,Toronto Islands,Union Station',\n",
       " 'Design Exchange,Toronto Dominion Centre',\n",
       " 'Commerce Court,Victoria Hotel',\n",
       " 'Bedford Park,Lawrence Manor East',\n",
       " 'Roselawn',\n",
       " 'Forest Hill North,Forest Hill West',\n",
       " 'The Annex,North Midtown,Yorkville',\n",
       " 'Harbord,University of Toronto',\n",
       " 'Chinatown,Grange Park,Kensington Market',\n",
       " 'CN Tower,Bathurst Quay,Island airport,Harbourfront West,King and Spadina,Railway Lands,South Niagara',\n",
       " 'Stn A PO Boxes 25 The Esplanade',\n",
       " 'First Canadian Place,Underground city',\n",
       " 'Lawrence Heights,Lawrence Manor',\n",
       " 'Glencairn',\n",
       " 'Humewood-Cedarvale',\n",
       " 'Caledonia-Fairbanks',\n",
       " 'Christie',\n",
       " 'Dovercourt Village,Dufferin',\n",
       " 'Little Portugal,Trinity',\n",
       " 'Brockton,Exhibition Place,Parkdale Village',\n",
       " 'Downsview,North Park,Upwood Park',\n",
       " 'Del Ray,Keelesdale,Mount Dennis,Silverthorn',\n",
       " 'The Junction North,Runnymede',\n",
       " 'High Park,The Junction South',\n",
       " 'Parkdale,Roncesvalles',\n",
       " 'Runnymede,Swansea',\n",
       " \"Queen's Park\",\n",
       " 'Canada Post Gateway Processing Centre',\n",
       " 'Business Reply Mail Processing Centre 969 Eastern',\n",
       " 'Humber Bay Shores,Mimico South,New Toronto',\n",
       " 'Alderwood,Long Branch',\n",
       " 'The Kingsway,Montgomery Road,Old Mill North',\n",
       " \"Humber Bay,King's Mill Park,Kingsway Park South East,Mimico NE,Old Mill South,The Queensway East,Royal York South East,Sunnylea\",\n",
       " 'Kingsway Park South West,Mimico NW,The Queensway West,Royal York South West,South of Bloor',\n",
       " \"Queen's Park\",\n",
       " 'Cloverdale,Islington,Martin Grove,Princess Gardens,West Deane Park',\n",
       " 'Bloordale Gardens,Eringate,Markland Wood,Old Burnhamthorpe',\n",
       " 'Humber Summit',\n",
       " 'Emery,Humberlea',\n",
       " 'Weston',\n",
       " 'Westmount',\n",
       " 'Kingsview Village,Martin Grove Gardens,Richview Gardens,St. Phillips',\n",
       " 'Albion Gardens,Beaumond Heights,Humbergate,Jamestown,Mount Olive,Silverstone,South Steeles,Thistletown',\n",
       " 'Northwest']"
      ]
     },
     "execution_count": 10,
     "metadata": {},
     "output_type": "execute_result"
    }
   ],
   "source": [
    "s=','\n",
    "neigh=[]\n",
    "for code,ind in dictio.items():\n",
    "    a=[]\n",
    "    for i in ind:\n",
    "        a.append(df.neighborhood[i])   \n",
    "    b=s.join(a)\n",
    "    neigh.append(b)\n",
    "neigh"
   ]
  },
  {
   "cell_type": "markdown",
   "metadata": {},
   "source": [
    "Now I create the borough list discarding the duplicates."
   ]
  },
  {
   "cell_type": "code",
   "execution_count": 11,
   "metadata": {
    "scrolled": true
   },
   "outputs": [
    {
     "data": {
      "text/html": [
       "<div>\n",
       "<style scoped>\n",
       "    .dataframe tbody tr th:only-of-type {\n",
       "        vertical-align: middle;\n",
       "    }\n",
       "\n",
       "    .dataframe tbody tr th {\n",
       "        vertical-align: top;\n",
       "    }\n",
       "\n",
       "    .dataframe thead th {\n",
       "        text-align: right;\n",
       "    }\n",
       "</style>\n",
       "<table border=\"1\" class=\"dataframe\">\n",
       "  <thead>\n",
       "    <tr style=\"text-align: right;\">\n",
       "      <th></th>\n",
       "      <th>postal_code</th>\n",
       "      <th>borough</th>\n",
       "    </tr>\n",
       "  </thead>\n",
       "  <tbody>\n",
       "    <tr>\n",
       "      <th>0</th>\n",
       "      <td>M3A</td>\n",
       "      <td>North York</td>\n",
       "    </tr>\n",
       "    <tr>\n",
       "      <th>1</th>\n",
       "      <td>M4A</td>\n",
       "      <td>North York</td>\n",
       "    </tr>\n",
       "    <tr>\n",
       "      <th>2</th>\n",
       "      <td>M5A</td>\n",
       "      <td>Downtown Toronto</td>\n",
       "    </tr>\n",
       "    <tr>\n",
       "      <th>3</th>\n",
       "      <td>M6A</td>\n",
       "      <td>North York</td>\n",
       "    </tr>\n",
       "    <tr>\n",
       "      <th>5</th>\n",
       "      <td>M7A</td>\n",
       "      <td>Queen's Park</td>\n",
       "    </tr>\n",
       "    <tr>\n",
       "      <th>6</th>\n",
       "      <td>M9A</td>\n",
       "      <td>Queen's Park</td>\n",
       "    </tr>\n",
       "    <tr>\n",
       "      <th>7</th>\n",
       "      <td>M1B</td>\n",
       "      <td>Scarborough</td>\n",
       "    </tr>\n",
       "    <tr>\n",
       "      <th>9</th>\n",
       "      <td>M3B</td>\n",
       "      <td>North York</td>\n",
       "    </tr>\n",
       "    <tr>\n",
       "      <th>10</th>\n",
       "      <td>M4B</td>\n",
       "      <td>East York</td>\n",
       "    </tr>\n",
       "    <tr>\n",
       "      <th>12</th>\n",
       "      <td>M5B</td>\n",
       "      <td>Downtown Toronto</td>\n",
       "    </tr>\n",
       "  </tbody>\n",
       "</table>\n",
       "</div>"
      ],
      "text/plain": [
       "   postal_code           borough\n",
       "0          M3A        North York\n",
       "1          M4A        North York\n",
       "2          M5A  Downtown Toronto\n",
       "3          M6A        North York\n",
       "5          M7A      Queen's Park\n",
       "6          M9A      Queen's Park\n",
       "7          M1B       Scarborough\n",
       "9          M3B        North York\n",
       "10         M4B         East York\n",
       "12         M5B  Downtown Toronto"
      ]
     },
     "execution_count": 11,
     "metadata": {},
     "output_type": "execute_result"
    }
   ],
   "source": [
    "df_unique=df[['postal_code','borough']].drop_duplicates()\n",
    "df_unique.head(10)"
   ]
  },
  {
   "cell_type": "markdown",
   "metadata": {},
   "source": [
    "Here I create the new dataframe with the grouped neighborhoods, and the postal code as index."
   ]
  },
  {
   "cell_type": "code",
   "execution_count": 12,
   "metadata": {
    "scrolled": true
   },
   "outputs": [
    {
     "data": {
      "text/html": [
       "<div>\n",
       "<style scoped>\n",
       "    .dataframe tbody tr th:only-of-type {\n",
       "        vertical-align: middle;\n",
       "    }\n",
       "\n",
       "    .dataframe tbody tr th {\n",
       "        vertical-align: top;\n",
       "    }\n",
       "\n",
       "    .dataframe thead th {\n",
       "        text-align: right;\n",
       "    }\n",
       "</style>\n",
       "<table border=\"1\" class=\"dataframe\">\n",
       "  <thead>\n",
       "    <tr style=\"text-align: right;\">\n",
       "      <th></th>\n",
       "      <th>0</th>\n",
       "    </tr>\n",
       "  </thead>\n",
       "  <tbody>\n",
       "    <tr>\n",
       "      <th>M1B</th>\n",
       "      <td>Rouge,Malvern</td>\n",
       "    </tr>\n",
       "    <tr>\n",
       "      <th>M1C</th>\n",
       "      <td>Highland Creek,Rouge Hill,Port Union</td>\n",
       "    </tr>\n",
       "    <tr>\n",
       "      <th>M1E</th>\n",
       "      <td>Guildwood,Morningside,West Hill</td>\n",
       "    </tr>\n",
       "    <tr>\n",
       "      <th>M1G</th>\n",
       "      <td>Woburn</td>\n",
       "    </tr>\n",
       "    <tr>\n",
       "      <th>M1H</th>\n",
       "      <td>Cedarbrae</td>\n",
       "    </tr>\n",
       "    <tr>\n",
       "      <th>M1J</th>\n",
       "      <td>Scarborough Village</td>\n",
       "    </tr>\n",
       "    <tr>\n",
       "      <th>M1K</th>\n",
       "      <td>East Birchmount Park,Ionview,Kennedy Park</td>\n",
       "    </tr>\n",
       "    <tr>\n",
       "      <th>M1L</th>\n",
       "      <td>Clairlea,Golden Mile,Oakridge</td>\n",
       "    </tr>\n",
       "    <tr>\n",
       "      <th>M1M</th>\n",
       "      <td>Cliffcrest,Cliffside,Scarborough Village West</td>\n",
       "    </tr>\n",
       "    <tr>\n",
       "      <th>M1N</th>\n",
       "      <td>Birch Cliff,Cliffside West</td>\n",
       "    </tr>\n",
       "  </tbody>\n",
       "</table>\n",
       "</div>"
      ],
      "text/plain": [
       "                                                 0\n",
       "M1B                                  Rouge,Malvern\n",
       "M1C           Highland Creek,Rouge Hill,Port Union\n",
       "M1E                Guildwood,Morningside,West Hill\n",
       "M1G                                         Woburn\n",
       "M1H                                      Cedarbrae\n",
       "M1J                            Scarborough Village\n",
       "M1K      East Birchmount Park,Ionview,Kennedy Park\n",
       "M1L                  Clairlea,Golden Mile,Oakridge\n",
       "M1M  Cliffcrest,Cliffside,Scarborough Village West\n",
       "M1N                     Birch Cliff,Cliffside West"
      ]
     },
     "execution_count": 12,
     "metadata": {},
     "output_type": "execute_result"
    }
   ],
   "source": [
    "df_merge=pd.DataFrame(neigh,dictio.keys())\n",
    "df_merge.head(10)"
   ]
  },
  {
   "cell_type": "markdown",
   "metadata": {},
   "source": [
    "Here I add the borough column with the command \"merge\" from pandas, using the postal code as common key, to maintain coherence with the data. After that I rename the columns with the correct name."
   ]
  },
  {
   "cell_type": "code",
   "execution_count": 13,
   "metadata": {
    "scrolled": true
   },
   "outputs": [
    {
     "data": {
      "text/plain": [
       "(103, 3)"
      ]
     },
     "execution_count": 13,
     "metadata": {},
     "output_type": "execute_result"
    }
   ],
   "source": [
    "df_final = df_unique.merge(df_merge, left_on='postal_code', right_index=True)\n",
    "df_final.reset_index(inplace=True, drop=True)\n",
    "final_columns={'postal_code':'PostalCode','borough':'Borough',0:'Neighborhood'}\n",
    "df_final.rename(columns=final_columns, inplace=True)\n",
    "df_final.shape"
   ]
  },
  {
   "cell_type": "markdown",
   "metadata": {},
   "source": [
    "### 2 - Adding the geographical coordinates\n",
    "\n",
    "Here I create a new dataframe with the geographical coordinates of the postal codes, and merge the two dataframes as before. The coordinates are from the csv file linked in the description page of the project."
   ]
  },
  {
   "cell_type": "code",
   "execution_count": 14,
   "metadata": {},
   "outputs": [],
   "source": [
    "geo=pd.read_csv('Geospatial_Coordinates.csv')"
   ]
  },
  {
   "cell_type": "code",
   "execution_count": 15,
   "metadata": {
    "scrolled": true
   },
   "outputs": [
    {
     "data": {
      "text/html": [
       "<div>\n",
       "<style scoped>\n",
       "    .dataframe tbody tr th:only-of-type {\n",
       "        vertical-align: middle;\n",
       "    }\n",
       "\n",
       "    .dataframe tbody tr th {\n",
       "        vertical-align: top;\n",
       "    }\n",
       "\n",
       "    .dataframe thead th {\n",
       "        text-align: right;\n",
       "    }\n",
       "</style>\n",
       "<table border=\"1\" class=\"dataframe\">\n",
       "  <thead>\n",
       "    <tr style=\"text-align: right;\">\n",
       "      <th></th>\n",
       "      <th>PostalCode</th>\n",
       "      <th>Borough</th>\n",
       "      <th>Neighborhood</th>\n",
       "      <th>Latitude</th>\n",
       "      <th>Longitude</th>\n",
       "    </tr>\n",
       "  </thead>\n",
       "  <tbody>\n",
       "    <tr>\n",
       "      <th>0</th>\n",
       "      <td>M3A</td>\n",
       "      <td>North York</td>\n",
       "      <td>Parkwoods</td>\n",
       "      <td>43.753259</td>\n",
       "      <td>-79.329656</td>\n",
       "    </tr>\n",
       "    <tr>\n",
       "      <th>1</th>\n",
       "      <td>M4A</td>\n",
       "      <td>North York</td>\n",
       "      <td>Victoria Village</td>\n",
       "      <td>43.725882</td>\n",
       "      <td>-79.315572</td>\n",
       "    </tr>\n",
       "    <tr>\n",
       "      <th>2</th>\n",
       "      <td>M5A</td>\n",
       "      <td>Downtown Toronto</td>\n",
       "      <td>Harbourfront</td>\n",
       "      <td>43.654260</td>\n",
       "      <td>-79.360636</td>\n",
       "    </tr>\n",
       "    <tr>\n",
       "      <th>3</th>\n",
       "      <td>M6A</td>\n",
       "      <td>North York</td>\n",
       "      <td>Lawrence Heights,Lawrence Manor</td>\n",
       "      <td>43.718518</td>\n",
       "      <td>-79.464763</td>\n",
       "    </tr>\n",
       "    <tr>\n",
       "      <th>4</th>\n",
       "      <td>M7A</td>\n",
       "      <td>Queen's Park</td>\n",
       "      <td>Queen's Park</td>\n",
       "      <td>43.662301</td>\n",
       "      <td>-79.389494</td>\n",
       "    </tr>\n",
       "    <tr>\n",
       "      <th>5</th>\n",
       "      <td>M9A</td>\n",
       "      <td>Queen's Park</td>\n",
       "      <td>Queen's Park</td>\n",
       "      <td>43.667856</td>\n",
       "      <td>-79.532242</td>\n",
       "    </tr>\n",
       "    <tr>\n",
       "      <th>6</th>\n",
       "      <td>M1B</td>\n",
       "      <td>Scarborough</td>\n",
       "      <td>Rouge,Malvern</td>\n",
       "      <td>43.806686</td>\n",
       "      <td>-79.194353</td>\n",
       "    </tr>\n",
       "    <tr>\n",
       "      <th>7</th>\n",
       "      <td>M3B</td>\n",
       "      <td>North York</td>\n",
       "      <td>Don Mills North</td>\n",
       "      <td>43.745906</td>\n",
       "      <td>-79.352188</td>\n",
       "    </tr>\n",
       "    <tr>\n",
       "      <th>8</th>\n",
       "      <td>M4B</td>\n",
       "      <td>East York</td>\n",
       "      <td>Woodbine Gardens,Parkview Hill</td>\n",
       "      <td>43.706397</td>\n",
       "      <td>-79.309937</td>\n",
       "    </tr>\n",
       "    <tr>\n",
       "      <th>9</th>\n",
       "      <td>M5B</td>\n",
       "      <td>Downtown Toronto</td>\n",
       "      <td>Ryerson,Garden District</td>\n",
       "      <td>43.657162</td>\n",
       "      <td>-79.378937</td>\n",
       "    </tr>\n",
       "  </tbody>\n",
       "</table>\n",
       "</div>"
      ],
      "text/plain": [
       "  PostalCode           Borough                     Neighborhood   Latitude  \\\n",
       "0        M3A        North York                        Parkwoods  43.753259   \n",
       "1        M4A        North York                 Victoria Village  43.725882   \n",
       "2        M5A  Downtown Toronto                     Harbourfront  43.654260   \n",
       "3        M6A        North York  Lawrence Heights,Lawrence Manor  43.718518   \n",
       "4        M7A      Queen's Park                     Queen's Park  43.662301   \n",
       "5        M9A      Queen's Park                     Queen's Park  43.667856   \n",
       "6        M1B       Scarborough                    Rouge,Malvern  43.806686   \n",
       "7        M3B        North York                  Don Mills North  43.745906   \n",
       "8        M4B         East York   Woodbine Gardens,Parkview Hill  43.706397   \n",
       "9        M5B  Downtown Toronto          Ryerson,Garden District  43.657162   \n",
       "\n",
       "   Longitude  \n",
       "0 -79.329656  \n",
       "1 -79.315572  \n",
       "2 -79.360636  \n",
       "3 -79.464763  \n",
       "4 -79.389494  \n",
       "5 -79.532242  \n",
       "6 -79.194353  \n",
       "7 -79.352188  \n",
       "8 -79.309937  \n",
       "9 -79.378937  "
      ]
     },
     "execution_count": 15,
     "metadata": {},
     "output_type": "execute_result"
    }
   ],
   "source": [
    "df_geo = df_final.merge(geo, left_on='PostalCode', right_on='Postal Code')\n",
    "df_geo.drop(columns=['Postal Code'], inplace=True)\n",
    "df_geo.head(10)"
   ]
  },
  {
   "cell_type": "markdown",
   "metadata": {},
   "source": [
    "### 3 - Clustering the postal codes"
   ]
  },
  {
   "cell_type": "markdown",
   "metadata": {},
   "source": [
    "Finally I create the map with all the postal codes, with the \"folium\" package."
   ]
  },
  {
   "cell_type": "code",
   "execution_count": 16,
   "metadata": {},
   "outputs": [],
   "source": [
    "lat_toronto=43.716589\n",
    "lon_toronto=-79.340686\n",
    "map_neigh = folium.Map(location=[lat_toronto, lon_toronto], zoom_start=11)"
   ]
  },
  {
   "cell_type": "code",
   "execution_count": 17,
   "metadata": {
    "scrolled": false
   },
   "outputs": [],
   "source": [
    "for lat, lng, label in zip(df_geo['Latitude'], df_geo['Longitude'], df_geo['Neighborhood']):\n",
    "    folium.Marker(\n",
    "        [lat, lng],\n",
    "        popup=label,\n",
    "        radius=5,\n",
    "        fill=True,\n",
    "        color='blue',\n",
    "        fill_color='blue',\n",
    "        fill_opacity=0.6\n",
    "        ).add_to(map_neigh)\n"
   ]
  },
  {
   "cell_type": "code",
   "execution_count": null,
   "metadata": {},
   "outputs": [],
   "source": []
  },
  {
   "cell_type": "code",
   "execution_count": null,
   "metadata": {},
   "outputs": [],
   "source": []
  }
 ],
 "metadata": {
  "kernelspec": {
   "display_name": "Python 3",
   "language": "python",
   "name": "python3"
  },
  "language_info": {
   "codemirror_mode": {
    "name": "ipython",
    "version": 3
   },
   "file_extension": ".py",
   "mimetype": "text/x-python",
   "name": "python",
   "nbconvert_exporter": "python",
   "pygments_lexer": "ipython3",
   "version": "3.7.3"
  }
 },
 "nbformat": 4,
 "nbformat_minor": 2
}
